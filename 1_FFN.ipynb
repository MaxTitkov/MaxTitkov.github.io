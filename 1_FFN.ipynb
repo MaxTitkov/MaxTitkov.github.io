{
 "cells": [
  {
   "cell_type": "code",
   "execution_count": 21,
   "metadata": {
    "collapsed": false
   },
   "outputs": [],
   "source": [
    "from keras.layers import Dense, Dropout\n",
    "from keras.models import Sequential\n",
    "from keras.optimizers import SGD\n",
    "from keras.callbacks import ModelCheckpoint\n",
    "\n",
    "from sklearn.model_selection import train_test_split\n",
    "from sklearn.preprocessing import MinMaxScaler\n",
    "from sklearn.preprocessing import LabelBinarizer\n",
    "import numpy as np\n",
    "import pandas as pd\n",
    "\n",
    "import matplotlib.pyplot as plt\n",
    "plt.style.use('ggplot')\n",
    "%matplotlib inline"
   ]
  },
  {
   "cell_type": "markdown",
   "metadata": {},
   "source": [
    "## 1. Нейронные сети с прямым распространением (feed forvard networks/FFN)"
   ]
  },
  {
   "cell_type": "markdown",
   "metadata": {},
   "source": [
    "Это самая простая архитектура сетей. В них информация передаётся от входов к выходам. Это базовые сети, которые очень часто входят в состав других сетей.\n",
    "\n",
    "Для иллюстрации работы НС с прямып распространением я использую базу данных <a href='https://www.niddk.nih.gov/'>Национального института диабета, заболеваний пищеварительной системы и болезней почек.</a> <img src=\"https://www.niddk.nih.gov/images/site-logo-full.svg\", width=300>\n",
    "\n",
    "Данные скачивал в <a href='https://archive.ics.uci.edu/ml/machine-learning-databases/pima-indians-diabetes/'>этом репозитории</a>.\n",
    "\n",
    "Данные содержат различные измерения в популяции американских индейцев плеимени Пима, в популяции которых отмается высокая встречаемость диабета.\n",
    "\n",
    "Это один из типичных наборов данных, на которых тестируют различные алгоритмы машинного обучения."
   ]
  },
  {
   "cell_type": "code",
   "execution_count": 34,
   "metadata": {
    "collapsed": false
   },
   "outputs": [
    {
     "data": {
      "text/html": [
       "<div>\n",
       "<table border=\"1\" class=\"dataframe\">\n",
       "  <thead>\n",
       "    <tr style=\"text-align: right;\">\n",
       "      <th></th>\n",
       "      <th>NP</th>\n",
       "      <th>PGC</th>\n",
       "      <th>DBP</th>\n",
       "      <th>TSFT</th>\n",
       "      <th>Insulin</th>\n",
       "      <th>BMass</th>\n",
       "      <th>DPF</th>\n",
       "      <th>Age</th>\n",
       "      <th>class</th>\n",
       "    </tr>\n",
       "  </thead>\n",
       "  <tbody>\n",
       "    <tr>\n",
       "      <th>0</th>\n",
       "      <td>1</td>\n",
       "      <td>85</td>\n",
       "      <td>66</td>\n",
       "      <td>29</td>\n",
       "      <td>0</td>\n",
       "      <td>26.6</td>\n",
       "      <td>0.351</td>\n",
       "      <td>31</td>\n",
       "      <td>0</td>\n",
       "    </tr>\n",
       "    <tr>\n",
       "      <th>1</th>\n",
       "      <td>8</td>\n",
       "      <td>183</td>\n",
       "      <td>64</td>\n",
       "      <td>0</td>\n",
       "      <td>0</td>\n",
       "      <td>23.3</td>\n",
       "      <td>0.672</td>\n",
       "      <td>32</td>\n",
       "      <td>1</td>\n",
       "    </tr>\n",
       "    <tr>\n",
       "      <th>2</th>\n",
       "      <td>1</td>\n",
       "      <td>89</td>\n",
       "      <td>66</td>\n",
       "      <td>23</td>\n",
       "      <td>94</td>\n",
       "      <td>28.1</td>\n",
       "      <td>0.167</td>\n",
       "      <td>21</td>\n",
       "      <td>0</td>\n",
       "    </tr>\n",
       "    <tr>\n",
       "      <th>3</th>\n",
       "      <td>0</td>\n",
       "      <td>137</td>\n",
       "      <td>40</td>\n",
       "      <td>35</td>\n",
       "      <td>168</td>\n",
       "      <td>43.1</td>\n",
       "      <td>2.288</td>\n",
       "      <td>33</td>\n",
       "      <td>1</td>\n",
       "    </tr>\n",
       "    <tr>\n",
       "      <th>4</th>\n",
       "      <td>5</td>\n",
       "      <td>116</td>\n",
       "      <td>74</td>\n",
       "      <td>0</td>\n",
       "      <td>0</td>\n",
       "      <td>25.6</td>\n",
       "      <td>0.201</td>\n",
       "      <td>30</td>\n",
       "      <td>0</td>\n",
       "    </tr>\n",
       "  </tbody>\n",
       "</table>\n",
       "</div>"
      ],
      "text/plain": [
       "   NP  PGC  DBP  TSFT  Insulin  BMass    DPF  Age  class\n",
       "0   1   85   66    29        0   26.6  0.351   31      0\n",
       "1   8  183   64     0        0   23.3  0.672   32      1\n",
       "2   1   89   66    23       94   28.1  0.167   21      0\n",
       "3   0  137   40    35      168   43.1  2.288   33      1\n",
       "4   5  116   74     0        0   25.6  0.201   30      0"
      ]
     },
     "execution_count": 34,
     "metadata": {},
     "output_type": "execute_result"
    }
   ],
   "source": [
    "data = pd.read_csv('https://archive.ics.uci.edu/ml/machine-learning-databases/pima-indians-diabetes/pima-indians-diabetes.data', header=0)\n",
    "datafr=pd.DataFrame(data)\n",
    "headers=['NP', 'PGC', 'DBP', 'TSFT', 'Insulin', 'BMass', 'DPF', 'Age', 'class']\n",
    "datafr.columns=headers\n",
    "datafr.head()"
   ]
  },
  {
   "cell_type": "code",
   "execution_count": 27,
   "metadata": {
    "collapsed": false
   },
   "outputs": [
    {
     "data": {
      "text/plain": [
       "(767, 9)"
      ]
     },
     "execution_count": 27,
     "metadata": {},
     "output_type": "execute_result"
    }
   ],
   "source": [
    "datafr.shape"
   ]
  },
  {
   "cell_type": "markdown",
   "metadata": {},
   "source": [
    "Набор содержит данные 767 человек, здоровых и больных диабетом.\n",
    "Каждый ряд - это пациент, каждый столбец- какой-либо показатель.\n",
    "\n",
    "   1. NP (Number of times pregnant) - количество беременностей;\n",
    "   2. PGC (Plasma glucose concentration) - концентрация глюкозы в плазме крови (через 2 часа после глюкозного теста);\n",
    "   3. DBP (Diastolic blood pressure (mm Hg)) - диастолическое артериальное давление;\n",
    "   4. TSFT (Triceps skin fold thickness (mm)) - толщина кожной складки;\n",
    "   5. Insulin (2-Hour serum insulin (mu U/ml)) - уровень инсулина в сыворотке крови;\n",
    "   6. BMass (Body mass index (weight in kg/(height in m)^2)) - индекс массы тела;\n",
    "   7. DPF (Diabetes pedigree function) - Индекс встречаемости диабета в семье;\n",
    "   8. Age (years) - возраст;\n",
    "   9. Class variable (0 or 1) - переменная класса. Если 1, то у пациента диагностировали диабет. Если 0, то пациент никогда не страдал диабетом."
   ]
  },
  {
   "cell_type": "code",
   "execution_count": 63,
   "metadata": {
    "collapsed": false
   },
   "outputs": [
    {
     "data": {
      "text/plain": [
       "<matplotlib.text.Text at 0x225b1518>"
      ]
     },
     "execution_count": 63,
     "metadata": {},
     "output_type": "execute_result"
    },
    {
     "data": {
      "image/png": "[encoded data removed]",
      "text/plain": [
       "<matplotlib.figure.Figure at 0x22315860>"
      ]
     },
     "metadata": {},
     "output_type": "display_data"
    }
   ],
   "source": [
    "pd.value_counts(datafr['class']).plot(kind='bar', figsize=(2, 3))\n",
    "plt.title('Healthy/Diabetes', fontsize=8)"
   ]
  },
  {
   "cell_type": "markdown",
   "metadata": {},
   "source": [
    "В данном наборе 500 человек здоровые и 267 страдают диабетом"
   ]
  },
  {
   "cell_type": "code",
   "execution_count": 102,
   "metadata": {
    "collapsed": false
   },
   "outputs": [
    {
     "data": {
      "text/html": [
       "<div>\n",
       "<table border=\"1\" class=\"dataframe\">\n",
       "  <thead>\n",
       "    <tr style=\"text-align: right;\">\n",
       "      <th></th>\n",
       "      <th>NP</th>\n",
       "      <th>PGC</th>\n",
       "      <th>DBP</th>\n",
       "      <th>TSFT</th>\n",
       "      <th>Insulin</th>\n",
       "      <th>BMass</th>\n",
       "      <th>DPF</th>\n",
       "      <th>Age</th>\n",
       "      <th>class</th>\n",
       "    </tr>\n",
       "  </thead>\n",
       "  <tbody>\n",
       "    <tr>\n",
       "      <th>class</th>\n",
       "      <td>0.221087</td>\n",
       "      <td>0.465856</td>\n",
       "      <td>0.064882</td>\n",
       "      <td>0.073265</td>\n",
       "      <td>0.131984</td>\n",
       "      <td>0.292695</td>\n",
       "      <td>0.173245</td>\n",
       "      <td>0.236417</td>\n",
       "      <td>1.0</td>\n",
       "    </tr>\n",
       "  </tbody>\n",
       "</table>\n",
       "</div>"
      ],
      "text/plain": [
       "             NP       PGC       DBP      TSFT   Insulin     BMass       DPF  \\\n",
       "class  0.221087  0.465856  0.064882  0.073265  0.131984  0.292695  0.173245   \n",
       "\n",
       "            Age  class  \n",
       "class  0.236417    1.0  "
      ]
     },
     "execution_count": 102,
     "metadata": {},
     "output_type": "execute_result"
    }
   ],
   "source": [
    "corellation=datafr.corr('pearson')\n",
    "corellation[-1:]"
   ]
  },
  {
   "cell_type": "markdown",
   "metadata": {},
   "source": [
    "Видно, что линейная связь (<a/ href=\"http://medstatistic.ru/theory/pirson.html\"> корелляция Пирсона</a>) у переменной класса (class) (той, которую нам нужно предсказать) больше 0.3 только в случае PGC-концентрации глюкозы в плазме(0.465856). Это значит, что зависимость между заболеваемостью диабетом и каким-либо ОДНИМ признаком слабая (меньше 0.3). Только в случае с показателем глюкозы в плазме крови она умеренная. \n",
    "Ни один из признаков В ОТДЕЛЬНОСТИ не даёт нам возможности судить о том, разовьётся диабет у пациента или нет.\n",
    "\n",
    "Для того, чтобы предсказать развитие заболевания, нам необходимо каким-то образом обощить все эти признаки.\n",
    "\n",
    "Собственно, для этого мы построим простую нейронную сеть с прямым распространением.\n",
    "\n",
    "Схематично её можно изобразить вот так:\n",
    "</a> <img src=\"ffn1.jpg\", width=600>\n",
    "Видно, что сеть имеет 8 входов, соответствующих количеству признаков, 2 скрытых слоя, имеющих 48 и 32 нейрона и один выход. Данные по модели перемещаются только вперёд от входного слоя к выходу. Каждый нейрон одного слоя связан со всеми нейронами последующего слоя синапсами. Во время обучения модели происходит коррекция синапсов и, таким образом, прохождение сигнала изменяется. Наша модель содержит ~2000 синапсов. Выход модели в данном случае будет один, так как мы выбираем только между двумя возможностями: \"болен\", либо \"не болен\". Выход в данном случае будет давать только одно число - вероятность болезни. Если вероятность больше 0.5, то сеть считает, что человек болен, если меньше 0.5, то скорее всего здоров. Можно сказать, что если выходной нейрон \"возбуждается\" сильно, модель считает, что человек болен."
   ]
  },
  {
   "cell_type": "markdown",
   "metadata": {},
   "source": [
    "Ниже я подготовил данные для модели, нормализовал их и случайным образом разделил на две выборки: 75% данных уйдёт на обучение модели (X_train и y_train), а 25% данных уйдёт на проверку, насколько хорошо модель справляется со своей задачей (X_test, y_test). То есть, 25%- тестовую выборку модель никогда не \"видела\" и поэтому, предсказание модели в отношении пациентов из этой выборки будут говорить об эффективности модели."
   ]
  },
  {
   "cell_type": "code",
   "execution_count": 145,
   "metadata": {
    "collapsed": false
   },
   "outputs": [
    {
     "data": {
      "text/plain": [
       "((575L, 8L), (192L, 8L), (575L, 1L), (192L, 1L))"
      ]
     },
     "execution_count": 145,
     "metadata": {},
     "output_type": "execute_result"
    }
   ],
   "source": [
    "X_ds1=datafr.replace(0, np.nan)\n",
    "X_ds2=datafr[[0,1,2,3,5,6,7]].fillna(datafr.median())\n",
    "X_ds2['SerIns']=X_ds2[[4]].fillna(datafr.mean())\n",
    "\n",
    "X=np.array(X_ds2[[0,1,2,3,4,5,6,7]])\n",
    "X=MinMaxScaler().fit_transform(X)\n",
    "y=np.array(datafr[[8]])\n",
    "X_train, X_test, y_train, y_test=train_test_split(X_mstr,y, test_size=0.25, random_state=0)\n",
    "X_train.shape, X_test.shape, y_train.shape, y_test.shape"
   ]
  },
  {
   "cell_type": "markdown",
   "metadata": {},
   "source": [
    "Теперь я создаю модель искусственной нейронной сети, как на схеме."
   ]
  },
  {
   "cell_type": "code",
   "execution_count": 163,
   "metadata": {
    "collapsed": true
   },
   "outputs": [],
   "source": [
    "model = Sequential()\n",
    "model.add(Dropout(0.1, input_shape=(8,)))\n",
    "model.add(Dense(48, init='uniform', activation='relu'))\n",
    "model.add(Dropout(0.3))\n",
    "model.add(Dense(32, init='uniform', activation='relu'))\n",
    "model.add(Dropout(0.3))\n",
    "model.add(Dense(1, init='uniform', activation='sigmoid'))\n",
    "\n",
    "sgd=SGD(lr=0.001, momentum=0.2, decay=1e-6, nesterov=1)\n",
    "model.compile(loss='binary_crossentropy', optimizer=sgd, metrics=['accuracy'])\n",
    "\n",
    "filepath=\"weights_ind/weights-improvement-{epoch:02d}-{val_acc:.2f}.hdf5\"\n",
    "checkpoint = ModelCheckpoint(filepath, monitor='val_acc', verbose=1, save_best_only=True, mode='max')\n",
    "callbacks_list = [checkpoint]"
   ]
  },
  {
   "cell_type": "markdown",
   "metadata": {},
   "source": [
    "Теперь я загружаю данные в модель, указываю некоторые параметры а также, выборку, на основании которой будет производиться проверка способности нашей модели предсказывать."
   ]
  },
  {
   "cell_type": "code",
   "execution_count": 167,
   "metadata": {
    "collapsed": false
   },
   "outputs": [
    {
     "name": "stdout",
     "output_type": "stream",
     "text": [
      "Train on 575 samples, validate on 192 samples\n",
      "Epoch 1/5\n",
      "0s - loss: 0.4962 - acc: 0.7565 - val_loss: 0.4469 - val_acc: 0.8021\n",
      "Epoch 2/5\n",
      "0s - loss: 0.5075 - acc: 0.7339 - val_loss: 0.4440 - val_acc: 0.8125\n",
      "Epoch 3/5\n",
      "0s - loss: 0.5002 - acc: 0.7409 - val_loss: 0.4401 - val_acc: 0.8021\n",
      "Epoch 4/5\n",
      "0s - loss: 0.5106 - acc: 0.7426 - val_loss: 0.4418 - val_acc: 0.7969\n",
      "Epoch 5/5\n",
      "0s - loss: 0.4899 - acc: 0.7583 - val_loss: 0.4413 - val_acc: 0.7969\n"
     ]
    },
    {
     "data": {
      "text/plain": [
       "<keras.callbacks.History at 0x2c71f4a8>"
      ]
     },
     "execution_count": 167,
     "metadata": {},
     "output_type": "execute_result"
    }
   ],
   "source": [
    "model.fit(X_train, y_train, \n",
    "          validation_data=(X_test, y_test), \n",
    "          verbose=2, \n",
    "          nb_epoch=5, \n",
    "          batch_size=10)"
   ]
  },
  {
   "cell_type": "markdown",
   "metadata": {},
   "source": [
    "</a> <img src=\"ffn1_output.png\", width=800>\n",
    "Обучение модели осуществляется несколько раз. \n",
    "Один цикл обучения называется эпохой. За одну эпоху модель просматривает данные 10 пациентов. Каждый раз, когда в модель поступают данные одного пациента, она делает предсказание. Предсказанное моделью число сравнивается с реальным. Если предсказанное чило ошибочно, ошибка вычисляется и модель корректируется. Затем постуают данные следующего пациента и.т.д.\n",
    "\n",
    "Вывод вверху я представил с целью иллюстрации. Там всего 5 эпох и ~80% правильных ответов. Я тренировал модель в течение большего количества эпох и с разными параметрами. К 170 эпохе модель достигла точности 82%"
   ]
  },
  {
   "cell_type": "code",
   "execution_count": 170,
   "metadata": {
    "collapsed": false
   },
   "outputs": [
    {
     "name": "stdout",
     "output_type": "stream",
     "text": [
      "acc: 82.29%\n"
     ]
    }
   ],
   "source": [
    "model.load_weights('weights_ind/weights-improvement-172-0.82.hdf5')\n",
    "scores=model.evaluate(X_test, y_test, verbose=0)\n",
    "print(\"%s: %.2f%%\" % (model.metrics_names[1], scores[1]*100))"
   ]
  },
  {
   "cell_type": "markdown",
   "metadata": {},
   "source": [
    "Предскажем, будет ли у пациентов диабет и выведем результат для первых 20:"
   ]
  },
  {
   "cell_type": "code",
   "execution_count": 189,
   "metadata": {
    "collapsed": false
   },
   "outputs": [
    {
     "data": {
      "text/html": [
       "<div>\n",
       "<table border=\"1\" class=\"dataframe\">\n",
       "  <thead>\n",
       "    <tr style=\"text-align: right;\">\n",
       "      <th></th>\n",
       "      <th>true</th>\n",
       "      <th>predicted</th>\n",
       "    </tr>\n",
       "  </thead>\n",
       "  <tbody>\n",
       "    <tr>\n",
       "      <th>0</th>\n",
       "      <td>1</td>\n",
       "      <td>1</td>\n",
       "    </tr>\n",
       "    <tr>\n",
       "      <th>1</th>\n",
       "      <td>0</td>\n",
       "      <td>0</td>\n",
       "    </tr>\n",
       "    <tr>\n",
       "      <th>2</th>\n",
       "      <td>1</td>\n",
       "      <td>1</td>\n",
       "    </tr>\n",
       "    <tr>\n",
       "      <th>3</th>\n",
       "      <td>1</td>\n",
       "      <td>0</td>\n",
       "    </tr>\n",
       "    <tr>\n",
       "      <th>4</th>\n",
       "      <td>0</td>\n",
       "      <td>0</td>\n",
       "    </tr>\n",
       "    <tr>\n",
       "      <th>5</th>\n",
       "      <td>0</td>\n",
       "      <td>0</td>\n",
       "    </tr>\n",
       "    <tr>\n",
       "      <th>6</th>\n",
       "      <td>1</td>\n",
       "      <td>1</td>\n",
       "    </tr>\n",
       "    <tr>\n",
       "      <th>7</th>\n",
       "      <td>0</td>\n",
       "      <td>0</td>\n",
       "    </tr>\n",
       "    <tr>\n",
       "      <th>8</th>\n",
       "      <td>0</td>\n",
       "      <td>0</td>\n",
       "    </tr>\n",
       "    <tr>\n",
       "      <th>9</th>\n",
       "      <td>0</td>\n",
       "      <td>0</td>\n",
       "    </tr>\n",
       "    <tr>\n",
       "      <th>10</th>\n",
       "      <td>0</td>\n",
       "      <td>0</td>\n",
       "    </tr>\n",
       "    <tr>\n",
       "      <th>11</th>\n",
       "      <td>0</td>\n",
       "      <td>0</td>\n",
       "    </tr>\n",
       "    <tr>\n",
       "      <th>12</th>\n",
       "      <td>0</td>\n",
       "      <td>0</td>\n",
       "    </tr>\n",
       "    <tr>\n",
       "      <th>13</th>\n",
       "      <td>0</td>\n",
       "      <td>0</td>\n",
       "    </tr>\n",
       "    <tr>\n",
       "      <th>14</th>\n",
       "      <td>0</td>\n",
       "      <td>0</td>\n",
       "    </tr>\n",
       "    <tr>\n",
       "      <th>15</th>\n",
       "      <td>0</td>\n",
       "      <td>0</td>\n",
       "    </tr>\n",
       "    <tr>\n",
       "      <th>16</th>\n",
       "      <td>0</td>\n",
       "      <td>0</td>\n",
       "    </tr>\n",
       "    <tr>\n",
       "      <th>17</th>\n",
       "      <td>1</td>\n",
       "      <td>1</td>\n",
       "    </tr>\n",
       "    <tr>\n",
       "      <th>18</th>\n",
       "      <td>1</td>\n",
       "      <td>1</td>\n",
       "    </tr>\n",
       "    <tr>\n",
       "      <th>19</th>\n",
       "      <td>1</td>\n",
       "      <td>0</td>\n",
       "    </tr>\n",
       "  </tbody>\n",
       "</table>\n",
       "</div>"
      ],
      "text/plain": [
       "    true  predicted\n",
       "0      1          1\n",
       "1      0          0\n",
       "2      1          1\n",
       "3      1          0\n",
       "4      0          0\n",
       "5      0          0\n",
       "6      1          1\n",
       "7      0          0\n",
       "8      0          0\n",
       "9      0          0\n",
       "10     0          0\n",
       "11     0          0\n",
       "12     0          0\n",
       "13     0          0\n",
       "14     0          0\n",
       "15     0          0\n",
       "16     0          0\n",
       "17     1          1\n",
       "18     1          1\n",
       "19     1          0"
      ]
     },
     "execution_count": 189,
     "metadata": {},
     "output_type": "execute_result"
    }
   ],
   "source": [
    "predicted=model.predict_classes(X_test, verbose=0)\n",
    "\n",
    "pr=pd.DataFrame(np.hstack((y_test, predicted)))\n",
    "pr.columns=['true', 'predicted']\n",
    "pr[:20]"
   ]
  },
  {
   "cell_type": "markdown",
   "metadata": {},
   "source": [
    "Видим, что многие ответы модели (столбец \"predicted\") совпадают с реальными ответами.\n",
    "\n",
    "Итак, мы создали и протестировали модель для предсказания только двух классов. Можно сделать модель для большего числа классов или чисел."
   ]
  },
  {
   "cell_type": "markdown",
   "metadata": {},
   "source": [
    "Модели, подобные описанной мною широко применяются во многих отраслях, в т.ч. и медицине.\n",
    "\n",
    "Например, <a/ href=\"https://pdfs.semanticscholar.org/7e1a/23188b00c719e656b7949a7c9a1ff2ab841e.pdf\">в данной работе</a> рассматриваются FFN для диагностирования развития острого нефрита на основании различных симптомов. <a/ href=\"https://www.ncbi.nlm.nih.gov/pubmed?linkname=pubmed_pubmed_reviews&from_uid=8818370\"> Есть работы и в психиатрии.</a>"
   ]
  },
  {
   "cell_type": "code",
   "execution_count": null,
   "metadata": {
    "collapsed": true
   },
   "outputs": [],
   "source": []
  }
 ],
 "metadata": {
  "anaconda-cloud": {},
  "kernelspec": {
   "display_name": "Python [conda root]",
   "language": "python",
   "name": "conda-root-py"
  },
  "language_info": {
   "codemirror_mode": {
    "name": "ipython",
    "version": 2
   },
   "file_extension": ".py",
   "mimetype": "text/x-python",
   "name": "python",
   "nbconvert_exporter": "python",
   "pygments_lexer": "ipython2",
   "version": "2.7.12"
  }
 },
 "nbformat": 4,
 "nbformat_minor": 1
}
